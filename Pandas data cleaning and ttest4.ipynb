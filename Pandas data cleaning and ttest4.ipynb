{
 "cells": [
  {
   "cell_type": "markdown",
   "metadata": {},
   "source": [
    "---\n",
    "\n",
    "_You are currently looking at **version 1.1** of this notebook. To download notebooks and datafiles, as well as get help on Jupyter notebooks in the Coursera platform, visit the [Jupyter Notebook FAQ](https://www.coursera.org/learn/python-data-analysis/resources/0dhYG) course resource._\n",
    "\n",
    "---"
   ]
  },
  {
   "cell_type": "code",
   "execution_count": 1,
   "metadata": {
    "collapsed": true
   },
   "outputs": [],
   "source": [
    "import pandas as pd\n",
    "import numpy as np\n",
    "from scipy.stats import ttest_ind\n",
    "import datetime as dt #### need this ilater\n"
   ]
  },
  {
   "cell_type": "markdown",
   "metadata": {},
   "source": [
    "# Assignment 4 - Hypothesis Testing\n",
    "This assignment requires more individual learning than previous assignments - you are encouraged to check out the [pandas documentation](http://pandas.pydata.org/pandas-docs/stable/) to find functions or methods you might not have used yet, or ask questions on [Stack Overflow](http://stackoverflow.com/) and tag them as pandas and python related. And of course, the discussion forums are open for interaction with your peers and the course staff.\n",
    "\n",
    "Definitions:\n",
    "* A _quarter_ is a specific three month period, Q1 is January through March, Q2 is April through June, Q3 is July through September, Q4 is October through December.\n",
    "* A _recession_ is defined as starting with two consecutive quarters of GDP decline, and ending with two consecutive quarters of GDP growth.\n",
    "* A _recession bottom_ is the quarter within a recession which had the lowest GDP.\n",
    "* A _university town_ is a city which has a high percentage of university students compared to the total population of the city.\n",
    "\n",
    "**Hypothesis**: University towns have their mean housing prices less effected by recessions. Run a t-test to compare the ratio of the mean price of houses in university towns the quarter before the recession starts compared to the recession bottom. (`price_ratio=quarter_before_recession/recession_bottom`)\n",
    "\n",
    "The following data files are available for this assignment:\n",
    "* From the [Zillow research data site](http://www.zillow.com/research/data/) there is housing data for the United States. In particular the datafile for [all homes at a city level](http://files.zillowstatic.com/research/public/City/City_Zhvi_AllHomes.csv), ```City_Zhvi_AllHomes.csv```, has median home sale prices at a fine grained level.\n",
    "* From the Wikipedia page on college towns is a list of [university towns in the United States](https://en.wikipedia.org/wiki/List_of_college_towns#College_towns_in_the_United_States) which has been copy and pasted into the file ```university_towns.txt```.\n",
    "* From Bureau of Economic Analysis, US Department of Commerce, the [GDP over time](http://www.bea.gov/national/index.htm#gdp) of the United States in current dollars (use the chained value in 2009 dollars), in quarterly intervals, in the file ```gdplev.xls```. For this assignment, only look at GDP data from the first quarter of 2000 onward.\n",
    "\n",
    "Each function in this assignment below is worth 10%, with the exception of ```run_ttest()```, which is worth 50%."
   ]
  },
  {
   "cell_type": "code",
   "execution_count": 2,
   "metadata": {
    "collapsed": true
   },
   "outputs": [],
   "source": [
    "data = pd.read_csv(\"City_Zhvi_AllHomes.csv\")\n",
    "university_towns = pd.read_table(\"university_towns.txt\", header = None)"
   ]
  },
  {
   "cell_type": "code",
   "execution_count": 3,
   "metadata": {},
   "outputs": [
    {
     "data": {
      "text/html": [
       "<div>\n",
       "<table border=\"1\" class=\"dataframe\">\n",
       "  <thead>\n",
       "    <tr style=\"text-align: right;\">\n",
       "      <th></th>\n",
       "      <th>0</th>\n",
       "    </tr>\n",
       "  </thead>\n",
       "  <tbody>\n",
       "    <tr>\n",
       "      <th>0</th>\n",
       "      <td>Alabama[edit]</td>\n",
       "    </tr>\n",
       "    <tr>\n",
       "      <th>1</th>\n",
       "      <td>Auburn (Auburn University)[1]</td>\n",
       "    </tr>\n",
       "    <tr>\n",
       "      <th>2</th>\n",
       "      <td>Florence (University of North Alabama)</td>\n",
       "    </tr>\n",
       "    <tr>\n",
       "      <th>3</th>\n",
       "      <td>Jacksonville (Jacksonville State University)[2]</td>\n",
       "    </tr>\n",
       "    <tr>\n",
       "      <th>4</th>\n",
       "      <td>Livingston (University of West Alabama)[2]</td>\n",
       "    </tr>\n",
       "  </tbody>\n",
       "</table>\n",
       "</div>"
      ],
      "text/plain": [
       "                                                 0\n",
       "0                                    Alabama[edit]\n",
       "1                    Auburn (Auburn University)[1]\n",
       "2           Florence (University of North Alabama)\n",
       "3  Jacksonville (Jacksonville State University)[2]\n",
       "4       Livingston (University of West Alabama)[2]"
      ]
     },
     "execution_count": 3,
     "metadata": {},
     "output_type": "execute_result"
    }
   ],
   "source": [
    "university_towns.head()"
   ]
  },
  {
   "cell_type": "code",
   "execution_count": 4,
   "metadata": {
    "collapsed": true
   },
   "outputs": [],
   "source": [
    "# Use this dictionary to map state names to two letter acronyms\n",
    "states = {'OH': 'Ohio', 'KY': 'Kentucky', 'AS': 'American Samoa', 'NV': 'Nevada', 'WY': 'Wyoming', 'NA': 'National', 'AL': 'Alabama', 'MD': 'Maryland', 'AK': 'Alaska', 'UT': 'Utah', 'OR': 'Oregon', 'MT': 'Montana', 'IL': 'Illinois', 'TN': 'Tennessee', 'DC': 'District of Columbia', 'VT': 'Vermont', 'ID': 'Idaho', 'AR': 'Arkansas', 'ME': 'Maine', 'WA': 'Washington', 'HI': 'Hawaii', 'WI': 'Wisconsin', 'MI': 'Michigan', 'IN': 'Indiana', 'NJ': 'New Jersey', 'AZ': 'Arizona', 'GU': 'Guam', 'MS': 'Mississippi', 'PR': 'Puerto Rico', 'NC': 'North Carolina', 'TX': 'Texas', 'SD': 'South Dakota', 'MP': 'Northern Mariana Islands', 'IA': 'Iowa', 'MO': 'Missouri', 'CT': 'Connecticut', 'WV': 'West Virginia', 'SC': 'South Carolina', 'LA': 'Louisiana', 'KS': 'Kansas', 'NY': 'New York', 'NE': 'Nebraska', 'OK': 'Oklahoma', 'FL': 'Florida', 'CA': 'California', 'CO': 'Colorado', 'PA': 'Pennsylvania', 'DE': 'Delaware', 'NM': 'New Mexico', 'RI': 'Rhode Island', 'MN': 'Minnesota', 'VI': 'Virgin Islands', 'NH': 'New Hampshire', 'MA': 'Massachusetts', 'GA': 'Georgia', 'ND': 'North Dakota', 'VA': 'Virginia'}"
   ]
  },
  {
   "cell_type": "code",
   "execution_count": 5,
   "metadata": {},
   "outputs": [
    {
     "data": {
      "text/plain": [
       "(517, 2)"
      ]
     },
     "execution_count": 5,
     "metadata": {},
     "output_type": "execute_result"
    }
   ],
   "source": [
    "states = {'OH': 'Ohio', 'KY': 'Kentucky', 'AS': 'American Samoa', 'NV': 'Nevada', 'WY': 'Wyoming', 'NA': 'National', 'AL': 'Alabama', 'MD': 'Maryland', 'AK': 'Alaska', 'UT': 'Utah', 'OR': 'Oregon', 'MT': 'Montana', 'IL': 'Illinois', 'TN': 'Tennessee', 'DC': 'District of Columbia', 'VT': 'Vermont', 'ID': 'Idaho', 'AR': 'Arkansas', 'ME': 'Maine', 'WA': 'Washington', 'HI': 'Hawaii', 'WI': 'Wisconsin', 'MI': 'Michigan', 'IN': 'Indiana', 'NJ': 'New Jersey', 'AZ': 'Arizona', 'GU': 'Guam', 'MS': 'Mississippi', 'PR': 'Puerto Rico', 'NC': 'North Carolina', 'TX': 'Texas', 'SD': 'South Dakota', 'MP': 'Northern Mariana Islands', 'IA': 'Iowa', 'MO': 'Missouri', 'CT': 'Connecticut', 'WV': 'West Virginia', 'SC': 'South Carolina', 'LA': 'Louisiana', 'KS': 'Kansas', 'NY': 'New York', 'NE': 'Nebraska', 'OK': 'Oklahoma', 'FL': 'Florida', 'CA': 'California', 'CO': 'Colorado', 'PA': 'Pennsylvania', 'DE': 'Delaware', 'NM': 'New Mexico', 'RI': 'Rhode Island', 'MN': 'Minnesota', 'VI': 'Virgin Islands', 'NH': 'New Hampshire', 'MA': 'Massachusetts', 'GA': 'Georgia', 'ND': 'North Dakota', 'VA': 'Virginia'}\n",
    "#### Get state and towns list by adding the assging state variable in loop then add it together with town.\n",
    "unclean_states = list()\n",
    "unclean_towns = list()\n",
    "for string in list(university_towns[0]):\n",
    "    if string.find(\"[edit]\") >= 0:\n",
    "        state = string\n",
    "    if string.find(\"[edit]\") == -1:\n",
    "        unclean_towns.append(string)\n",
    "        unclean_states.append(state)\n",
    "### Clean state by sliting and taking the 1st item\n",
    "clean_states = list()\n",
    "for state in unclean_states:\n",
    "    clean_state = state.split(\"[\")[0]\n",
    "    clean_states.append(clean_state)\n",
    "clean_towns = list()\n",
    "for town in unclean_towns:\n",
    "    clean_town = town.split(\" (\")[0]\n",
    "    #clean_town = clean_town.split(\", \")[0]\n",
    "    #clean_town = clean_town.split(\"-\")[0]\n",
    "    clean_towns.append(clean_town)\n",
    "\n",
    "### The dict is reverese do i reveres the item wnad keys to get the result i wanted\n",
    "## https://stackoverflow.com/questions/21546739/load-data-from-txt-with-pandas\n",
    "inv_state = {v: k for k, v in states.items()}\n",
    "df_dict = {\"State\":clean_states,\n",
    "       \"RegionName\" :clean_towns}\n",
    "Uni_town_df = pd.DataFrame(df_dict)\n",
    "Uni_town_df.replace({ \"State\" : inv_state}, inplace = True)\n",
    "Uni_town_df.shape"
   ]
  },
  {
   "cell_type": "code",
   "execution_count": 6,
   "metadata": {
    "collapsed": true
   },
   "outputs": [],
   "source": [
    "# Use this dictionary to map state names to two letter acronyms\n",
    "states = {'OH': 'Ohio', 'KY': 'Kentucky', 'AS': 'American Samoa', 'NV': 'Nevada', 'WY': 'Wyoming', 'NA': 'National', 'AL': 'Alabama', 'MD': 'Maryland', 'AK': 'Alaska', 'UT': 'Utah', 'OR': 'Oregon', 'MT': 'Montana', 'IL': 'Illinois', 'TN': 'Tennessee', 'DC': 'District of Columbia', 'VT': 'Vermont', 'ID': 'Idaho', 'AR': 'Arkansas', 'ME': 'Maine', 'WA': 'Washington', 'HI': 'Hawaii', 'WI': 'Wisconsin', 'MI': 'Michigan', 'IN': 'Indiana', 'NJ': 'New Jersey', 'AZ': 'Arizona', 'GU': 'Guam', 'MS': 'Mississippi', 'PR': 'Puerto Rico', 'NC': 'North Carolina', 'TX': 'Texas', 'SD': 'South Dakota', 'MP': 'Northern Mariana Islands', 'IA': 'Iowa', 'MO': 'Missouri', 'CT': 'Connecticut', 'WV': 'West Virginia', 'SC': 'South Carolina', 'LA': 'Louisiana', 'KS': 'Kansas', 'NY': 'New York', 'NE': 'Nebraska', 'OK': 'Oklahoma', 'FL': 'Florida', 'CA': 'California', 'CO': 'Colorado', 'PA': 'Pennsylvania', 'DE': 'Delaware', 'NM': 'New Mexico', 'RI': 'Rhode Island', 'MN': 'Minnesota', 'VI': 'Virgin Islands', 'NH': 'New Hampshire', 'MA': 'Massachusetts', 'GA': 'Georgia', 'ND': 'North Dakota', 'VA': 'Virginia'}"
   ]
  },
  {
   "cell_type": "code",
   "execution_count": 7,
   "metadata": {
    "collapsed": true
   },
   "outputs": [],
   "source": [
    "def get_list_of_university_towns():\n",
    "    '''Returns a DataFrame of towns and the states they are in from the \n",
    "    university_towns.txt list. The format of the DataFrame should be:\n",
    "    DataFrame( [ [\"Michigan\", \"Ann Arbor\"], [\"Michigan\", \"Yipsilanti\"] ], \n",
    "    columns=[\"State\", \"RegionName\"]  )\n",
    "    \n",
    "    The following cleaning needs to be done:\n",
    "\n",
    "    1. For \"State\", removing characters from \"[\" to the end.\n",
    "    2. For \"RegionName\", when applicable, removing every character from \" (\" to the end.\n",
    "    3. Depending on how you read the data, you may need to remove newline character '\\n'. '''\n",
    "    # Use this dictionary to map state names to two letter acronyms\n",
    "    states = {'OH': 'Ohio', 'KY': 'Kentucky', 'AS': 'American Samoa', 'NV': 'Nevada', 'WY': 'Wyoming', 'NA': 'National', 'AL': 'Alabama', 'MD': 'Maryland', 'AK': 'Alaska', 'UT': 'Utah', 'OR': 'Oregon', 'MT': 'Montana', 'IL': 'Illinois', 'TN': 'Tennessee', 'DC': 'District of Columbia', 'VT': 'Vermont', 'ID': 'Idaho', 'AR': 'Arkansas', 'ME': 'Maine', 'WA': 'Washington', 'HI': 'Hawaii', 'WI': 'Wisconsin', 'MI': 'Michigan', 'IN': 'Indiana', 'NJ': 'New Jersey', 'AZ': 'Arizona', 'GU': 'Guam', 'MS': 'Mississippi', 'PR': 'Puerto Rico', 'NC': 'North Carolina', 'TX': 'Texas', 'SD': 'South Dakota', 'MP': 'Northern Mariana Islands', 'IA': 'Iowa', 'MO': 'Missouri', 'CT': 'Connecticut', 'WV': 'West Virginia', 'SC': 'South Carolina', 'LA': 'Louisiana', 'KS': 'Kansas', 'NY': 'New York', 'NE': 'Nebraska', 'OK': 'Oklahoma', 'FL': 'Florida', 'CA': 'California', 'CO': 'Colorado', 'PA': 'Pennsylvania', 'DE': 'Delaware', 'NM': 'New Mexico', 'RI': 'Rhode Island', 'MN': 'Minnesota', 'VI': 'Virgin Islands', 'NH': 'New Hampshire', 'MA': 'Massachusetts', 'GA': 'Georgia', 'ND': 'North Dakota', 'VA': 'Virginia'}\n",
    "    #### Get state and towns list by adding the assging state variable in loop then add it together with town.\n",
    "    unclean_states = list()\n",
    "    unclean_towns = list()\n",
    "    for string in list(university_towns[0]):\n",
    "        if string.find(\"[edit]\") >= 0:\n",
    "            state = string\n",
    "        if string.find(\"[edit]\") == -1:\n",
    "            unclean_towns.append(string)\n",
    "            unclean_states.append(state)\n",
    "    ### Clean state by sliting and taking the 1st item\n",
    "    clean_states = list()\n",
    "    for state in unclean_states:\n",
    "        clean_state = state.split(\"[\")[0]#.split('\\n')[0] ### add line\n",
    "        clean_states.append(clean_state)\n",
    "    clean_towns = list()\n",
    "    for town in unclean_towns:\n",
    "        clean_town = town.split(\" (\")[0]#.split('\\n')[0] ### add line\n",
    "        #clean_town = clean_town.split(\", \")[0]\n",
    "        #clean_town = clean_town.split(\"-\")[0]\n",
    "        \n",
    "        clean_towns.append(clean_town)\n",
    "\n",
    "    ### The dict is reverese do i reveres the item wnad keys to get the result i wanted\n",
    "    ## https://stackoverflow.com/questions/21546739/load-data-from-txt-with-pandas\n",
    "    #inv_state = {v: k for k, v in states.items()}\n",
    "    df_dict = {\"State\":clean_states,\n",
    "           \"RegionName\" :clean_towns}\n",
    "    Uni_town_df = pd.DataFrame(df_dict)\n",
    "    Uni_town_df.replace({ \"State\" : states}, inplace = True)\n",
    "    return Uni_town_df[[\"State\",\"RegionName\"]]"
   ]
  },
  {
   "cell_type": "code",
   "execution_count": 8,
   "metadata": {},
   "outputs": [
    {
     "data": {
      "text/plain": [
       "'1953q4'"
      ]
     },
     "execution_count": 8,
     "metadata": {},
     "output_type": "execute_result"
    }
   ],
   "source": [
    "GDP = pd.ExcelFile(\"gdplev.xls\")\n",
    "GDP = GDP.parse(GDP.sheet_names[0])\n",
    "GDP.columns = ['Current-Dollar and \"Real\" Gross Domestic Product ' ,\"GDP in billions of current dollars nan\" , \"GDP in billions of chained 2009 dollars\",\n",
    "              \"no need\", \"Quarterly\" ,\"GDP in billions of current dollars\",\"GDP in billions of chained 2009 dollars\", \"no need\"]\n",
    "GDP = GDP[7:][[\"Quarterly\",\"GDP in billions of current dollars\"]]\n",
    "\n",
    "\n",
    "range_panda= range(0,len(GDP[\"GDP in billions of current dollars\"]),1)\n",
    "recession = list()\n",
    "for num in list(range_panda):\n",
    "    if num == len(GDP[\"GDP in billions of current dollars\"])-4:\n",
    "        break\n",
    "    value  = GDP[\"GDP in billions of current dollars\"].iloc[num]\n",
    "    value2 = GDP[\"GDP in billions of current dollars\"].iloc[num + 1]\n",
    "    value3 = GDP[\"GDP in billions of current dollars\"].iloc[num + 2]\n",
    "    value4 = GDP[\"GDP in billions of current dollars\"].iloc[num + 3]\n",
    "    value5 = GDP[\"GDP in billions of current dollars\"].iloc[num + 4]\n",
    "\n",
    "    if (value > value2> value3) and (value3<value4<value5) :\n",
    "        recession.append(num +1)\n",
    "A = GDP[\"Quarterly\"].iloc[recession[0]]\n",
    "A"
   ]
  },
  {
   "cell_type": "code",
   "execution_count": 9,
   "metadata": {
    "collapsed": true,
    "umich_part_id": "022",
    "umich_partlist_id": "004"
   },
   "outputs": [],
   "source": [
    "def get_recession_start():\n",
    "    '''Returns the year and quarter of the recession start time as a \n",
    "    string value in a format such as 2005q3'''\n",
    "    GDP = pd.ExcelFile(\"gdplev.xls\")\n",
    "    GDP = GDP.parse(GDP.sheet_names[0])\n",
    "    GDP.columns = ['Current-Dollar and \"Real\" Gross Domestic Product ' ,\"GDP in billions of current dollars nan\" , \"GDP in billions of chained 2009 dollars\",\n",
    "                  \"no need\", \"Quarterly\" ,\"GDP in billions of current dollars\",\"GDP in billions of chained 2009 dollars\", \"no need\"]\n",
    "    ### Only use these values\n",
    "    GDP = GDP[7:][[\"Quarterly\",\"GDP in billions of current dollars\",\"GDP in billions of chained 2009 dollars\"]]\n",
    "    ## only 2000 data\n",
    "    GDP = GDP[212:]\n",
    "    ## choses the columns becuasue you might change it\n",
    "    col = \"GDP in billions of current dollars\"\n",
    "    ## use for loop by range to get the number of indecies\n",
    "    range_panda= range(0,len(GDP[col]),1)\n",
    "    recession = list()\n",
    "    for num in list(range_panda):\n",
    "        if num == len(GDP[col])-4:\n",
    "            break\n",
    "        value  = GDP[col].iloc[num]\n",
    "        value2 = GDP[col].iloc[num + 1]\n",
    "        value3 = GDP[col].iloc[num + 2]\n",
    "        value4 = GDP[col].iloc[num + 3]\n",
    "        value5 = GDP[col].iloc[num + 4]\n",
    "\n",
    "        if (value > value2> value3) and (value3<value4<value5) :\n",
    "            recession.append(num)\n",
    "   \n",
    "    A = GDP[\"Quarterly\"].iloc[recession[0]-1] ## put minus 1 to specify when it has started\n",
    "     \n",
    "    return A"
   ]
  },
  {
   "cell_type": "code",
   "execution_count": 10,
   "metadata": {
    "collapsed": true,
    "umich_part_id": "023",
    "umich_partlist_id": "004"
   },
   "outputs": [],
   "source": [
    "def get_recession_end():\n",
    "    '''Returns the year and quarter of the recession end time as a \n",
    "    string value in a format such as 2005q3'''\n",
    "    GDP = pd.ExcelFile(\"gdplev.xls\")\n",
    "    GDP = GDP.parse(GDP.sheet_names[0])\n",
    "    GDP.columns = ['Current-Dollar and \"Real\" Gross Domestic Product ' ,\"GDP in billions of current dollars nan\" , \"GDP in billions of chained 2009 dollars\",\n",
    "                  \"no need\", \"Quarterly\" ,\"GDP in billions of current dollars\",\"GDP in billions of chained 2009 dollars\", \"no need\"]\n",
    "    GDP = GDP[7:][[\"Quarterly\",\"GDP in billions of current dollars\",\"GDP in billions of chained 2009 dollars\"]]\n",
    "    GDP = GDP[212:]\n",
    "    col = \"GDP in billions of current dollars\"\n",
    "    range_panda= range(0,len(GDP[col]),1)\n",
    "    recession = list()\n",
    "    for num in list(range_panda):\n",
    "        if num == len(GDP[col])-4:\n",
    "            break\n",
    "        value  = GDP[col].iloc[num]\n",
    "        value2 = GDP[col].iloc[num + 1]\n",
    "        value3 = GDP[col].iloc[num + 2]\n",
    "        value4 = GDP[col].iloc[num + 3]\n",
    "        value5 = GDP[col].iloc[num + 4]\n",
    "\n",
    "        if (value > value2> value3) and (value3<value4<value5) :\n",
    "            recession.append(num)\n",
    "   \n",
    "    A = GDP[\"Quarterly\"].iloc[recession[0]+4] ### Last recession value\n",
    "    \n",
    "    return A"
   ]
  },
  {
   "cell_type": "code",
   "execution_count": null,
   "metadata": {
    "collapsed": true
   },
   "outputs": [],
   "source": []
  },
  {
   "cell_type": "code",
   "execution_count": 11,
   "metadata": {
    "collapsed": true,
    "umich_part_id": "024",
    "umich_partlist_id": "004"
   },
   "outputs": [],
   "source": [
    "def get_recession_bottom():\n",
    "    '''Returns the year and quarter of the recession bottom time as a \n",
    "    string value in a format such as 2005q3'''\n",
    "    GDP = pd.ExcelFile(\"gdplev.xls\")\n",
    "    GDP = GDP.parse(GDP.sheet_names[0])\n",
    "    GDP.columns = ['Current-Dollar and \"Real\" Gross Domestic Product ' ,\"GDP in billions of current dollars nan\" , \"GDP in billions of chained 2009 dollars\",\n",
    "                  \"no need\", \"Quarterly\" ,\"GDP in billions of current dollars\",\"GDP in billions of chained 2009 dollars\", \"no need\"]\n",
    "    GDP = GDP[7:][[\"Quarterly\",\"GDP in billions of current dollars\",\"GDP in billions of chained 2009 dollars\"]]\n",
    "    GDP = GDP[212:]\n",
    "    col = \"GDP in billions of current dollars\"\n",
    "    range_panda= range(0,len(GDP[col]),1)\n",
    "    recession = list()\n",
    "    for num in list(range_panda):\n",
    "        if num == len(GDP[col])-4:\n",
    "            break\n",
    "        value  = GDP[col].iloc[num]\n",
    "        value2 = GDP[col].iloc[num + 1]\n",
    "        value3 = GDP[col].iloc[num + 2]\n",
    "        value4 = GDP[col].iloc[num + 3]\n",
    "        value5 = GDP[col].iloc[num + 4]\n",
    "\n",
    "        if (value > value2> value3) and (value3<value4<value5) :\n",
    "            recession.append(num)\n",
    "   \n",
    "    A = GDP[\"Quarterly\"].iloc[recession[0]+2] ### Last recession value\n",
    "    \n",
    "    return A"
   ]
  },
  {
   "cell_type": "markdown",
   "metadata": {},
   "source": [
    "### read the data\n",
    "housing = pd.read_csv(\"City_Zhvi_AllHomes.csv\")\n",
    "years_col = list(housing.columns)[6:] ## The all years col\n",
    "cols = years_col[45:] ### from 2000\n",
    "\n",
    "#housing.rename({\"State\" : states} , inplace = True)\n",
    "housing[\"State\"] = housing[\"State\"].map(states)\n",
    "housing.set_index([\"State\", \"RegionName\"], inplace= True)\n",
    "housing = housing[cols]\n",
    "### Change the cols names to quarters of each year\n",
    "housing_q_means = list()\n",
    "for col in housing.columns:\n",
    "    col_date = col.split(\"-\")\n",
    "    quarter = pd.Timestamp(dt.date(int(col_date[0]), int(col_date[1]) , 1)).quarter\n",
    "    year  = pd.Timestamp(dt.date(int(col_date[0]), int(col_date[1]) , 1)).year\n",
    "    year_q = str(year)+\"q\"+str(quarter)\n",
    "    housing_q_means.append(year_q)\n",
    "\n",
    "housing.columns = housing_q_means ### change the origin\n",
    "#### Create q mean cols and have all means in it\n",
    "quarter_means_cols = list()\n",
    "for col in set(housing_q_means):\n",
    "    housing[col + \"mean\"] = housing[col].mean(axis = 1)\n",
    "    quarter_means_cols.append(col + \"mean\")\n",
    "quarter_means_cols.sort()\n",
    "housing = housing[quarter_means_cols]\n",
    " ## now change means\n",
    "quarter_means_cols2 = list()\n",
    "for string in quarter_means_cols:\n",
    "    quarter_means_cols2.append(string.split(\"mean\")[0])\n",
    "housing.columns = quarter_means_cols2\n",
    "\n",
    "housing.head()\n"
   ]
  },
  {
   "cell_type": "code",
   "execution_count": 12,
   "metadata": {
    "collapsed": true
   },
   "outputs": [],
   "source": [
    "def convert_housing_data_to_quarters():\n",
    "    '''Converts the housing data to quarters and returns it as mean \n",
    "    values in a dataframe. This dataframe should be a dataframe with\n",
    "    columns for 2000q1 through 2016q3, and should have a multi-index\n",
    "    in the shape of [\"State\",\"RegionName\"].\n",
    "    \n",
    "    Note: Quarters are defined in the assignment description, they are\n",
    "    not arbitrary three month periods.\n",
    "    \n",
    "    The resulting dataframe should have 67 columns, and 10,730 rows.\n",
    "    '''\n",
    "    ### read the data\n",
    "    housing = pd.read_csv(\"City_Zhvi_AllHomes.csv\")\n",
    "    years_col = list(housing.columns)[6:] ## The all years col\n",
    "    cols = years_col[45:] ### from 2000\n",
    "\n",
    "    #housing.rename({\"State\" : states} , inplace = True)\n",
    "    housing[\"State\"] = housing[\"State\"].map(states)  ### $$$ you should have maped the state with the dict given above\n",
    "    housing.set_index([\"State\", \"RegionName\"], inplace= True)\n",
    "    housing = housing[cols]\n",
    "    ### Change the cols names to quarters of each year\n",
    "    housing_q_means = list()\n",
    "    for col in housing.columns:\n",
    "        col_date = col.split(\"-\")\n",
    "        quarter = pd.Timestamp(dt.date(int(col_date[0]), int(col_date[1]) , 1)).quarter\n",
    "        year  = pd.Timestamp(dt.date(int(col_date[0]), int(col_date[1]) , 1)).year\n",
    "        year_q = str(year)+\"q\"+str(quarter)\n",
    "        housing_q_means.append(year_q)\n",
    "\n",
    "    housing.columns = housing_q_means ### change the origin\n",
    "    #### Create q mean cols and have all means in it\n",
    "    quarter_means_cols = list()\n",
    "    for col in set(housing_q_means):\n",
    "        housing[col + \"mean\"] = housing[col].mean(axis = 1)\n",
    "        quarter_means_cols.append(col + \"mean\")\n",
    "    quarter_means_cols.sort()\n",
    "    housing = housing[quarter_means_cols]\n",
    "     ## now change means\n",
    "    quarter_means_cols2 = list()\n",
    "    for string in quarter_means_cols:\n",
    "        quarter_means_cols2.append(string.split(\"mean\")[0])\n",
    "    housing.columns = quarter_means_cols2\n",
    "\n",
    "\n",
    "\n",
    "    return housing"
   ]
  },
  {
   "cell_type": "code",
   "execution_count": 17,
   "metadata": {
    "collapsed": true,
    "umich_part_id": "026",
    "umich_partlist_id": "004"
   },
   "outputs": [],
   "source": [
    "def run_ttest():\n",
    "    '''First creates new data showing the decline or growth of housing prices\n",
    "    between the recession start and the recession bottom. Then runs a ttest\n",
    "    comparing the university town values to the non-university towns values, \n",
    "    return whether the alternative hypothesis (that the two groups are the same)\n",
    "    is true or not as well as the p-value of the confidence. \n",
    "\n",
    "    Return the tuple (different, p, better) where different=True if the t-test is\n",
    "    True at a p<0.01 (we reject the null hypothesis), or different=False if \n",
    "    otherwise (we cannot reject the null hypothesis). The variable p should\n",
    "    be equal to the exact p value returned from scipy.stats.ttest_ind(). The\n",
    "    value for better should be either \"university town\" or \"non-university town\"\n",
    "    depending on which has a lower mean price ratio (which is equivilent to a\n",
    "    reduced market loss).'''\n",
    "    \n",
    "    \n",
    "    '''\n",
    "    Hypothesis: University towns have their mean housing prices less effected by recessions.\n",
    "    Run a t-test to compare the ratio of the mean price of houses in university towns the quarter\n",
    "    before the recession starts compared to the recession bottom. \n",
    "    (price_ratio=quarter_before_recession/recession_bottom)\n",
    "    '''\n",
    "    \n",
    "    ## Get the data\n",
    "    housing = convert_housing_data_to_quarters()\n",
    "    housing = housing.reset_index()\n",
    "    ## Create Ratio of resssion\n",
    "    housing[\"ratio\"] = housing[get_recession_start()] / housing[get_recession_bottom()]\n",
    "    unitowns = get_list_of_university_towns()\n",
    "\n",
    "    ## Merge with town\n",
    "    unitowns_housing = pd.merge(housing,unitowns,how='inner',on=['State','RegionName']) ### inner section\n",
    "    ## assign data on the data now\n",
    "    unitowns_housing['unitown'] = 0\n",
    "    unitowns_housing_all = pd.merge(housing,unitowns_housing,how='outer',on=['State','RegionName',\n",
    "                                                                             get_recession_start(),\n",
    "                                                                             get_recession_bottom(),\n",
    "                                                                             'ratio']) ## outter everything other than inner\n",
    "\n",
    "    unitowns_housing_all['unitown'] = unitowns_housing_all['unitown'].fillna(1)\n",
    "    unitown_data = unitowns_housing_all[unitowns_housing_all['unitown'] == 0]['ratio'].dropna()\n",
    "    not_unitown_data = unitowns_housing_all[unitowns_housing_all['unitown'] == 1]['ratio'].dropna()\n",
    "\n",
    "    pval = ttest_ind(unitown_data, not_unitown_data) \n",
    "\n",
    "\n",
    "    ## Better assign better\n",
    "    better = None\n",
    "    if unitown_data.mean() < not_unitown_data.mean(): #lower mean price ratio\n",
    "        better = \"university town\"\n",
    "    if unitown_data.mean() > not_unitown_data.mean():\n",
    "        better = \"non-university town\"\n",
    "\n",
    "    ## different assign value   \n",
    "    different = False\n",
    "    if pval[1] <0.01:\n",
    "        different= True\n",
    "\n",
    "\n",
    "    return (different, pval[1] , better)"
   ]
  },
  {
   "cell_type": "code",
   "execution_count": 16,
   "metadata": {},
   "outputs": [
    {
     "data": {
      "text/plain": [
       "(True, 0.0054964273536938875, 'non-university town')"
      ]
     },
     "execution_count": 16,
     "metadata": {},
     "output_type": "execute_result"
    }
   ],
   "source": [
    "run_ttest()"
   ]
  },
  {
   "cell_type": "code",
   "execution_count": null,
   "metadata": {
    "collapsed": true
   },
   "outputs": [],
   "source": []
  }
 ],
 "metadata": {
  "coursera": {
   "course_slug": "python-data-analysis",
   "graded_item_id": "Il9Fx",
   "launcher_item_id": "TeDW0",
   "part_id": "WGlun"
  },
  "kernelspec": {
   "display_name": "Python 3",
   "language": "python",
   "name": "python3"
  },
  "language_info": {
   "codemirror_mode": {
    "name": "ipython",
    "version": 3
   },
   "file_extension": ".py",
   "mimetype": "text/x-python",
   "name": "python",
   "nbconvert_exporter": "python",
   "pygments_lexer": "ipython3",
   "version": "3.6.0"
  },
  "umich": {
   "id": "Assignment 4",
   "version": "1.1"
  }
 },
 "nbformat": 4,
 "nbformat_minor": 1
}
